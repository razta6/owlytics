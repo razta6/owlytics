{
 "cells": [
  {
   "cell_type": "code",
   "execution_count": 1,
   "metadata": {},
   "outputs": [],
   "source": [
    "%load_ext autoreload\n",
    "%autoreload 2\n",
    "\n",
    "from os.path import join as pjoin\n",
    "\n",
    "%matplotlib inline\n",
    "import matplotlib.pyplot as plt\n",
    "import seaborn as sns\n",
    "sns.set()"
   ]
  },
  {
   "cell_type": "code",
   "execution_count": 2,
   "metadata": {},
   "outputs": [],
   "source": [
    "import train\n",
    "import predict"
   ]
  },
  {
   "cell_type": "code",
   "execution_count": 3,
   "metadata": {},
   "outputs": [
    {
     "name": "stdout",
     "output_type": "stream",
     "text": [
      "data\\MixedShapesRegularTrain\\MixedShapesRegularTrain_TRAIN.tsv\n",
      "data\\MixedShapesRegularTrain\\MixedShapesRegularTrain_TEST.tsv\n"
     ]
    }
   ],
   "source": [
    "data_folder = pjoin(\"data\", \"MixedShapesRegularTrain\")\n",
    "train_fname = \"MixedShapesRegularTrain_TRAIN.tsv\"\n",
    "test_fname = \"MixedShapesRegularTrain_TEST.tsv\"\n",
    "\n",
    "train_path = pjoin(data_folder, train_fname)\n",
    "test_path = pjoin(data_folder, test_fname)\n",
    "\n",
    "print(train_path)\n",
    "print(test_path)"
   ]
  },
  {
   "cell_type": "code",
   "execution_count": 4,
   "metadata": {},
   "outputs": [],
   "source": [
    "SMOOTHING_WINDOW = 1 # 1 for no smoothing\n",
    "DOWNSAMPLE_WINDOW = 1 # 1 for no downsampling"
   ]
  },
  {
   "cell_type": "markdown",
   "metadata": {},
   "source": [
    "# KNN Minkowsky"
   ]
  },
  {
   "cell_type": "code",
   "execution_count": 5,
   "metadata": {},
   "outputs": [
    {
     "name": "stdout",
     "output_type": "stream",
     "text": [
      "Start training\n",
      "Saving to file: ckpts\\knn_minkowski.pkl\n",
      "Training duration: 0.10 seconds\n"
     ]
    }
   ],
   "source": [
    "model=\"knn_minkowski\"\n",
    "\n",
    "params = {\n",
    "    \"smoothing_window\": SMOOTHING_WINDOW,\n",
    "    \"downsample_window\": DOWNSAMPLE_WINDOW,\n",
    "    \"n_neighbors\": 1,\n",
    "}\n",
    "\n",
    "cls = train.main(train_path, model, params)"
   ]
  },
  {
   "cell_type": "code",
   "execution_count": 6,
   "metadata": {},
   "outputs": [
    {
     "name": "stdout",
     "output_type": "stream",
     "text": [
      "Inference duration: 1.64 seconds\n",
      "              precision    recall  f1-score   support\n",
      "\n",
      "           1       0.94      0.92      0.93       457\n",
      "           2       0.95      0.99      0.97       654\n",
      "           3       0.75      0.87      0.81       418\n",
      "           4       0.90      0.75      0.81       581\n",
      "           5       0.94      0.99      0.96       314\n",
      "\n",
      "    accuracy                           0.90      2424\n",
      "   macro avg       0.90      0.90      0.90      2424\n",
      "weighted avg       0.90      0.90      0.90      2424\n",
      "\n"
     ]
    },
    {
     "data": {
      "image/png": "[encoded data removed]",
      "text/plain": [
       "<Figure size 432x288 with 2 Axes>"
      ]
     },
     "metadata": {},
     "output_type": "display_data"
    }
   ],
   "source": [
    "y_pred, cm = predict.main(test_path, model, params)"
   ]
  },
  {
   "cell_type": "markdown",
   "metadata": {},
   "source": [
    "# KNN DTW"
   ]
  },
  {
   "cell_type": "code",
   "execution_count": 7,
   "metadata": {},
   "outputs": [
    {
     "name": "stdout",
     "output_type": "stream",
     "text": [
      "Start training\n",
      "Saving to file: ckpts\\knn_dtw.pkl\n",
      "Training duration: 1.48 seconds\n"
     ]
    }
   ],
   "source": [
    "model=\"knn_dtw\"\n",
    "\n",
    "params = {\n",
    "    \"smoothing_window\": SMOOTHING_WINDOW,\n",
    "    \"downsample_window\": DOWNSAMPLE_WINDOW,\n",
    "    \"n_neighbors\": 1,\n",
    "    \"dwt_window\": 60\n",
    "}\n",
    "\n",
    "cls = train.main(train_path, model, params)"
   ]
  },
  {
   "cell_type": "code",
   "execution_count": 8,
   "metadata": {},
   "outputs": [
    {
     "name": "stdout",
     "output_type": "stream",
     "text": [
      "Inference duration: 489.57 seconds\n",
      "              precision    recall  f1-score   support\n",
      "\n",
      "           1       0.94      0.92      0.93       457\n",
      "           2       0.95      1.00      0.97       654\n",
      "           3       0.76      0.88      0.82       418\n",
      "           4       0.92      0.75      0.82       581\n",
      "           5       0.93      0.99      0.96       314\n",
      "\n",
      "    accuracy                           0.90      2424\n",
      "   macro avg       0.90      0.91      0.90      2424\n",
      "weighted avg       0.91      0.90      0.90      2424\n",
      "\n"
     ]
    },
    {
     "data": {
      "image/png": "[encoded data removed]",
      "text/plain": [
       "<Figure size 432x288 with 2 Axes>"
      ]
     },
     "metadata": {},
     "output_type": "display_data"
    }
   ],
   "source": [
    "y_pred, cm = predict.main(test_path, model, params)"
   ]
  },
  {
   "cell_type": "markdown",
   "metadata": {},
   "source": [
    "# Random Forest"
   ]
  },
  {
   "cell_type": "code",
   "execution_count": 9,
   "metadata": {},
   "outputs": [
    {
     "name": "stdout",
     "output_type": "stream",
     "text": [
      "Start training\n",
      "Saving to file: ckpts\\rf.pkl\n",
      "Training duration: 0.96 seconds\n"
     ]
    }
   ],
   "source": [
    "model=\"rf\"\n",
    "\n",
    "params = {\n",
    "    \"smoothing_window\": SMOOTHING_WINDOW,\n",
    "    \"downsample_window\": DOWNSAMPLE_WINDOW,\n",
    "    \"decomp_level\": 1,\n",
    "    \"wavelet\": \"db2\",\n",
    "    \"max_depth\": 16,\n",
    "    \"n_estimators\": 100,\n",
    "}\n",
    "\n",
    "\n",
    "cls = train.main(train_path, model, params)"
   ]
  },
  {
   "cell_type": "code",
   "execution_count": 10,
   "metadata": {},
   "outputs": [
    {
     "name": "stdout",
     "output_type": "stream",
     "text": [
      "Inference duration: 0.99 seconds\n",
      "              precision    recall  f1-score   support\n",
      "\n",
      "           1       0.88      0.93      0.90       457\n",
      "           2       0.95      0.94      0.94       654\n",
      "           3       0.79      0.79      0.79       418\n",
      "           4       0.82      0.77      0.79       581\n",
      "           5       0.92      0.98      0.95       314\n",
      "\n",
      "    accuracy                           0.88      2424\n",
      "   macro avg       0.87      0.88      0.88      2424\n",
      "weighted avg       0.87      0.88      0.87      2424\n",
      "\n"
     ]
    },
    {
     "data": {
      "image/png": "[encoded data removed]",
      "text/plain": [
       "<Figure size 432x288 with 2 Axes>"
      ]
     },
     "metadata": {},
     "output_type": "display_data"
    }
   ],
   "source": [
    "y_pred, cm = predict.main(test_path, model, params)"
   ]
  },
  {
   "cell_type": "markdown",
   "metadata": {},
   "source": [
    "# LSTM"
   ]
  },
  {
   "cell_type": "code",
   "execution_count": 11,
   "metadata": {},
   "outputs": [
    {
     "name": "stdout",
     "output_type": "stream",
     "text": [
      "Start model training\n",
      "LSTMClassifier(\n",
      "  (rnn): LSTM(1024, 256, num_layers=3, batch_first=True)\n",
      "  (fc_out): Linear(in_features=256, out_features=5, bias=True)\n",
      ")\n",
      "Epoch 1 best model saved with f1_score: 52.15%\n",
      "Epoch 2 best model saved with f1_score: 64.01%\n",
      "Epoch 3 best model saved with f1_score: 67.02%\n",
      "Epoch 4 best model saved with f1_score: 67.97%\n",
      "Epoch 5 best model saved with f1_score: 70.89%\n",
      "Epoch 6 best model saved with f1_score: 71.55%\n",
      "Epoch 7 best model saved with f1_score: 75.33%\n",
      "Epoch 9 best model saved with f1_score: 79.65%\n",
      "Epoch:  10. Loss: 0.4483. F1 score: 82.88%, Acc.: 83.77%\n",
      "Epoch 10 best model saved with f1_score: 82.88%\n",
      "Epoch 11 best model saved with f1_score: 86.80%\n",
      "Epoch 12 best model saved with f1_score: 87.41%\n",
      "Epoch 13 best model saved with f1_score: 89.82%\n",
      "Epoch:  20. Loss: 0.2761. F1 score: 90.18%, Acc.: 90.38%\n",
      "Epoch 20 best model saved with f1_score: 90.18%\n",
      "Epoch 24 best model saved with f1_score: 92.13%\n",
      "Epoch 26 best model saved with f1_score: 92.72%\n",
      "Epoch:  30. Loss: 0.2238. F1 score: 93.99%, Acc.: 93.99%\n",
      "Epoch 30 best model saved with f1_score: 93.99%\n",
      "Epoch 31 best model saved with f1_score: 94.39%\n",
      "Epoch 32 best model saved with f1_score: 95.37%\n",
      "Epoch 38 best model saved with f1_score: 96.39%\n",
      "Epoch 39 best model saved with f1_score: 97.19%\n",
      "Epoch:  40. Loss: 0.1050. F1 score: 97.59%, Acc.: 97.60%\n",
      "Epoch 40 best model saved with f1_score: 97.59%\n",
      "Epoch 47 best model saved with f1_score: 97.79%\n",
      "Epoch 48 best model saved with f1_score: 98.20%\n",
      "Epoch 49 best model saved with f1_score: 98.60%\n",
      "Epoch:  50. Loss: 0.0656. F1 score: 98.60%, Acc.: 98.60%\n",
      "Epoch 50 best model saved with f1_score: 98.60%\n",
      "Epoch 51 best model saved with f1_score: 99.00%\n",
      "Epoch:  60. Loss: 0.0643. F1 score: 98.80%, Acc.: 98.80%\n",
      "Epoch 61 best model saved with f1_score: 99.20%\n",
      "Epoch 63 best model saved with f1_score: 99.40%\n",
      "Epoch 68 best model saved with f1_score: 99.60%\n",
      "Epoch:  70. Loss: 0.0265. F1 score: 99.60%, Acc.: 99.60%\n",
      "Epoch 71 best model saved with f1_score: 99.80%\n",
      "Epoch:  80. Loss: 0.2818. F1 score: 95.55%, Acc.: 95.59%\n",
      "Epoch 89 best model saved with f1_score: 100.00%\n",
      "Epoch:  90. Loss: 0.0158. F1 score: 100.00%, Acc.: 100.00%\n",
      "Epoch: 100. Loss: 0.0100. F1 score: 100.00%, Acc.: 100.00%\n",
      "Epoch: 110. Loss: 0.0072. F1 score: 100.00%, Acc.: 100.00%\n",
      "Epoch: 120. Loss: 0.0056. F1 score: 100.00%, Acc.: 100.00%\n",
      "Epoch: 130. Loss: 0.0046. F1 score: 100.00%, Acc.: 100.00%\n",
      "Epoch: 140. Loss: 0.0038. F1 score: 100.00%, Acc.: 100.00%\n",
      "Epoch: 150. Loss: 0.0033. F1 score: 100.00%, Acc.: 100.00%\n",
      "Epoch: 160. Loss: 0.0028. F1 score: 100.00%, Acc.: 100.00%\n",
      "Epoch: 170. Loss: 0.0025. F1 score: 100.00%, Acc.: 100.00%\n",
      "Epoch: 180. Loss: 0.0022. F1 score: 100.00%, Acc.: 100.00%\n",
      "Early stopping on epoch 189\n",
      "Training duration: 25.92 seconds\n"
     ]
    }
   ],
   "source": [
    "model=\"lstm\"\n",
    "\n",
    "params = {\n",
    "    \"smoothing_window\": SMOOTHING_WINDOW,\n",
    "    \"downsample_window\": DOWNSAMPLE_WINDOW,\n",
    "    \"layer_dim\": 3,\n",
    "    \"hidden_dim\": 256\n",
    "}\n",
    "\n",
    "cls = train.main(train_path, model, params)\n",
    "\n",
    "#training results are just an overfitting of the train set"
   ]
  },
  {
   "cell_type": "code",
   "execution_count": 12,
   "metadata": {},
   "outputs": [
    {
     "name": "stdout",
     "output_type": "stream",
     "text": [
      "Predicting on test dataset\n",
      "Inference duration: 0.69 seconds\n",
      "              precision    recall  f1-score   support\n",
      "\n",
      "           1       0.90      0.92      0.91       457\n",
      "           2       0.94      0.97      0.95       654\n",
      "           3       0.82      0.83      0.83       418\n",
      "           4       0.88      0.81      0.84       581\n",
      "           5       0.95      0.99      0.97       314\n",
      "\n",
      "    accuracy                           0.90      2424\n",
      "   macro avg       0.90      0.90      0.90      2424\n",
      "weighted avg       0.90      0.90      0.90      2424\n",
      "\n"
     ]
    },
    {
     "data": {
      "image/png": "[encoded data removed]",
      "text/plain": [
       "<Figure size 432x288 with 2 Axes>"
      ]
     },
     "metadata": {},
     "output_type": "display_data"
    }
   ],
   "source": [
    "y_pred, cm = predict.main(test_path, model, params)"
   ]
  },
  {
   "cell_type": "code",
   "execution_count": null,
   "metadata": {},
   "outputs": [],
   "source": []
  },
  {
   "cell_type": "code",
   "execution_count": null,
   "metadata": {},
   "outputs": [],
   "source": []
  },
  {
   "cell_type": "code",
   "execution_count": null,
   "metadata": {},
   "outputs": [],
   "source": []
  }
 ],
 "metadata": {
  "kernelspec": {
   "display_name": "Python 3",
   "language": "python",
   "name": "python3"
  },
  "language_info": {
   "codemirror_mode": {
    "name": "ipython",
    "version": 3
   },
   "file_extension": ".py",
   "mimetype": "text/x-python",
   "name": "python",
   "nbconvert_exporter": "python",
   "pygments_lexer": "ipython3",
   "version": "3.7.5"
  }
 },
 "nbformat": 4,
 "nbformat_minor": 4
}
